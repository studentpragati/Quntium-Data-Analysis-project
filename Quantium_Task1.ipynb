{
 "cells": [
  {
   "cell_type": "markdown",
   "id": "bd2de6f8-5a76-4238-af44-8776b054f24d",
   "metadata": {},
   "source": [
    "# Reading the QVI_purchase_behaviour dataset"
   ]
  },
  {
   "cell_type": "code",
   "execution_count": 1,
   "id": "2ac00e38-ea40-42f1-831b-df843098fc22",
   "metadata": {},
   "outputs": [],
   "source": [
    "import pandas as pd\n",
    "df =pd.read_csv(r\"C:\\Users\\Lenovo\\Downloads\\QVI_purchase_behaviour.csv\")"
   ]
  },
  {
   "cell_type": "markdown",
   "id": "138feafb-bbbd-4476-95eb-3a45bb9a34ac",
   "metadata": {},
   "source": [
    "# Reading the QVI_transaction_data dataset"
   ]
  },
  {
   "cell_type": "code",
   "execution_count": 3,
   "id": "9e0425b9-1e00-4488-87c8-34af1c43ceda",
   "metadata": {},
   "outputs": [],
   "source": [
    "pf=pd.read_excel(r\"C:\\Users\\Lenovo\\Downloads\\QVI_transaction_data.xlsx\")"
   ]
  },
  {
   "cell_type": "markdown",
   "id": "1d3a113b-a1ad-48bf-80f3-60c40ba90b01",
   "metadata": {},
   "source": [
    "# Cleaning the df dataset first."
   ]
  },
  {
   "cell_type": "code",
   "execution_count": 5,
   "id": "374b230d-9e93-4dba-b2c0-760916251653",
   "metadata": {},
   "outputs": [
    {
     "data": {
      "text/html": [
       "<div>\n",
       "<style scoped>\n",
       "    .dataframe tbody tr th:only-of-type {\n",
       "        vertical-align: middle;\n",
       "    }\n",
       "\n",
       "    .dataframe tbody tr th {\n",
       "        vertical-align: top;\n",
       "    }\n",
       "\n",
       "    .dataframe thead th {\n",
       "        text-align: right;\n",
       "    }\n",
       "</style>\n",
       "<table border=\"1\" class=\"dataframe\">\n",
       "  <thead>\n",
       "    <tr style=\"text-align: right;\">\n",
       "      <th></th>\n",
       "      <th>LYLTY_CARD_NBR</th>\n",
       "      <th>LIFESTAGE</th>\n",
       "      <th>PREMIUM_CUSTOMER</th>\n",
       "    </tr>\n",
       "  </thead>\n",
       "  <tbody>\n",
       "    <tr>\n",
       "      <th>0</th>\n",
       "      <td>1000</td>\n",
       "      <td>YOUNG SINGLES/COUPLES</td>\n",
       "      <td>Premium</td>\n",
       "    </tr>\n",
       "    <tr>\n",
       "      <th>1</th>\n",
       "      <td>1002</td>\n",
       "      <td>YOUNG SINGLES/COUPLES</td>\n",
       "      <td>Mainstream</td>\n",
       "    </tr>\n",
       "    <tr>\n",
       "      <th>2</th>\n",
       "      <td>1003</td>\n",
       "      <td>YOUNG FAMILIES</td>\n",
       "      <td>Budget</td>\n",
       "    </tr>\n",
       "    <tr>\n",
       "      <th>3</th>\n",
       "      <td>1004</td>\n",
       "      <td>OLDER SINGLES/COUPLES</td>\n",
       "      <td>Mainstream</td>\n",
       "    </tr>\n",
       "    <tr>\n",
       "      <th>4</th>\n",
       "      <td>1005</td>\n",
       "      <td>MIDAGE SINGLES/COUPLES</td>\n",
       "      <td>Mainstream</td>\n",
       "    </tr>\n",
       "    <tr>\n",
       "      <th>5</th>\n",
       "      <td>1007</td>\n",
       "      <td>YOUNG SINGLES/COUPLES</td>\n",
       "      <td>Budget</td>\n",
       "    </tr>\n",
       "    <tr>\n",
       "      <th>6</th>\n",
       "      <td>1009</td>\n",
       "      <td>NEW FAMILIES</td>\n",
       "      <td>Premium</td>\n",
       "    </tr>\n",
       "    <tr>\n",
       "      <th>7</th>\n",
       "      <td>1010</td>\n",
       "      <td>YOUNG SINGLES/COUPLES</td>\n",
       "      <td>Mainstream</td>\n",
       "    </tr>\n",
       "    <tr>\n",
       "      <th>8</th>\n",
       "      <td>1011</td>\n",
       "      <td>OLDER SINGLES/COUPLES</td>\n",
       "      <td>Mainstream</td>\n",
       "    </tr>\n",
       "    <tr>\n",
       "      <th>9</th>\n",
       "      <td>1012</td>\n",
       "      <td>OLDER FAMILIES</td>\n",
       "      <td>Mainstream</td>\n",
       "    </tr>\n",
       "  </tbody>\n",
       "</table>\n",
       "</div>"
      ],
      "text/plain": [
       "   LYLTY_CARD_NBR               LIFESTAGE PREMIUM_CUSTOMER\n",
       "0            1000   YOUNG SINGLES/COUPLES          Premium\n",
       "1            1002   YOUNG SINGLES/COUPLES       Mainstream\n",
       "2            1003          YOUNG FAMILIES           Budget\n",
       "3            1004   OLDER SINGLES/COUPLES       Mainstream\n",
       "4            1005  MIDAGE SINGLES/COUPLES       Mainstream\n",
       "5            1007   YOUNG SINGLES/COUPLES           Budget\n",
       "6            1009            NEW FAMILIES          Premium\n",
       "7            1010   YOUNG SINGLES/COUPLES       Mainstream\n",
       "8            1011   OLDER SINGLES/COUPLES       Mainstream\n",
       "9            1012          OLDER FAMILIES       Mainstream"
      ]
     },
     "execution_count": 5,
     "metadata": {},
     "output_type": "execute_result"
    }
   ],
   "source": [
    "df.head(10)"
   ]
  },
  {
   "cell_type": "markdown",
   "id": "d52bdfc9-fbc4-46d9-845a-22d8611eedca",
   "metadata": {},
   "source": [
    "# checking for null values"
   ]
  },
  {
   "cell_type": "code",
   "execution_count": 6,
   "id": "3f1a50a4-8183-4fde-92f5-a5a1049f7acf",
   "metadata": {},
   "outputs": [
    {
     "data": {
      "text/plain": [
       "LYLTY_CARD_NBR      0\n",
       "LIFESTAGE           0\n",
       "PREMIUM_CUSTOMER    0\n",
       "dtype: int64"
      ]
     },
     "execution_count": 6,
     "metadata": {},
     "output_type": "execute_result"
    }
   ],
   "source": [
    "df.isnull().sum()"
   ]
  },
  {
   "cell_type": "markdown",
   "id": "a2ae99d7-3b65-4330-9e3e-9513a7b4cb4e",
   "metadata": {},
   "source": [
    "# checking for unique values and unique values counts"
   ]
  },
  {
   "cell_type": "code",
   "execution_count": 7,
   "id": "bc3d3c9f-e89c-43d4-acb5-ee748f440c9a",
   "metadata": {},
   "outputs": [
    {
     "data": {
      "text/plain": [
       "72637"
      ]
     },
     "execution_count": 7,
     "metadata": {},
     "output_type": "execute_result"
    }
   ],
   "source": [
    "df[\"LYLTY_CARD_NBR\"].nunique()"
   ]
  },
  {
   "cell_type": "code",
   "execution_count": 8,
   "id": "486b81b6-e88d-4267-a290-369ef98a04bb",
   "metadata": {},
   "outputs": [
    {
     "data": {
      "text/plain": [
       "LIFESTAGE\n",
       "RETIREES                  14805\n",
       "OLDER SINGLES/COUPLES     14609\n",
       "YOUNG SINGLES/COUPLES     14441\n",
       "OLDER FAMILIES             9780\n",
       "YOUNG FAMILIES             9178\n",
       "MIDAGE SINGLES/COUPLES     7275\n",
       "NEW FAMILIES               2549\n",
       "Name: count, dtype: int64"
      ]
     },
     "execution_count": 8,
     "metadata": {},
     "output_type": "execute_result"
    }
   ],
   "source": [
    "df[\"LIFESTAGE\"].value_counts()"
   ]
  },
  {
   "cell_type": "markdown",
   "id": "3a60e938-3e18-4e88-965b-5c4945cdeca5",
   "metadata": {},
   "source": [
    "# Cleaning the df dataset now"
   ]
  },
  {
   "cell_type": "markdown",
   "id": "14689272-caeb-4400-aa23-429f96517223",
   "metadata": {},
   "source": [
    "# Checking for null values"
   ]
  },
  {
   "cell_type": "code",
   "execution_count": 9,
   "id": "20471247-7d5f-4ec7-b74f-bc2fe947f31a",
   "metadata": {},
   "outputs": [
    {
     "data": {
      "text/plain": [
       "DATE              0\n",
       "STORE_NBR         0\n",
       "LYLTY_CARD_NBR    0\n",
       "TXN_ID            0\n",
       "PROD_NBR          0\n",
       "PROD_NAME         0\n",
       "PROD_QTY          0\n",
       "TOT_SALES         0\n",
       "dtype: int64"
      ]
     },
     "execution_count": 9,
     "metadata": {},
     "output_type": "execute_result"
    }
   ],
   "source": [
    "pf.isnull().sum()"
   ]
  },
  {
   "cell_type": "markdown",
   "id": "421b5be4-38f4-435f-82c7-414861096bcd",
   "metadata": {},
   "source": [
    "# Correcting the datatype of the \"DATE\" column"
   ]
  },
  {
   "cell_type": "code",
   "execution_count": 10,
   "id": "93b27f22-8f64-4de0-b65b-454729ed281f",
   "metadata": {},
   "outputs": [],
   "source": [
    "pf[\"DATE\"]=pd.to_datetime(pf[\"DATE\"])"
   ]
  },
  {
   "cell_type": "code",
   "execution_count": 11,
   "id": "45b89376-05e7-4c63-90bb-7d9dcc79d131",
   "metadata": {},
   "outputs": [
    {
     "name": "stdout",
     "output_type": "stream",
     "text": [
      "<class 'pandas.core.frame.DataFrame'>\n",
      "RangeIndex: 264836 entries, 0 to 264835\n",
      "Data columns (total 8 columns):\n",
      " #   Column          Non-Null Count   Dtype         \n",
      "---  ------          --------------   -----         \n",
      " 0   DATE            264836 non-null  datetime64[ns]\n",
      " 1   STORE_NBR       264836 non-null  int64         \n",
      " 2   LYLTY_CARD_NBR  264836 non-null  int64         \n",
      " 3   TXN_ID          264836 non-null  int64         \n",
      " 4   PROD_NBR        264836 non-null  int64         \n",
      " 5   PROD_NAME       264836 non-null  object        \n",
      " 6   PROD_QTY        264836 non-null  int64         \n",
      " 7   TOT_SALES       264836 non-null  float64       \n",
      "dtypes: datetime64[ns](1), float64(1), int64(5), object(1)\n",
      "memory usage: 16.2+ MB\n"
     ]
    }
   ],
   "source": [
    "pf.info()"
   ]
  },
  {
   "cell_type": "markdown",
   "id": "84dcffd4-41fe-4ad9-a628-9ad5f8f861d0",
   "metadata": {},
   "source": [
    "# \"Date\" column has unwanted data other than Dates, that needs to be cleaned."
   ]
  },
  {
   "cell_type": "code",
   "execution_count": 13,
   "id": "0de76275-ac36-4515-acc5-d124b5dc4aee",
   "metadata": {},
   "outputs": [],
   "source": [
    "pf[\"DATE\"]=pf[\"DATE\"].astype(str)"
   ]
  },
  {
   "cell_type": "code",
   "execution_count": 14,
   "id": "e96d83bb-9f7d-465e-b15c-d8be8a1e66ca",
   "metadata": {},
   "outputs": [
    {
     "name": "stdout",
     "output_type": "stream",
     "text": [
      "<class 'pandas.core.frame.DataFrame'>\n",
      "RangeIndex: 264836 entries, 0 to 264835\n",
      "Data columns (total 8 columns):\n",
      " #   Column          Non-Null Count   Dtype  \n",
      "---  ------          --------------   -----  \n",
      " 0   DATE            264836 non-null  object \n",
      " 1   STORE_NBR       264836 non-null  int64  \n",
      " 2   LYLTY_CARD_NBR  264836 non-null  int64  \n",
      " 3   TXN_ID          264836 non-null  int64  \n",
      " 4   PROD_NBR        264836 non-null  int64  \n",
      " 5   PROD_NAME       264836 non-null  object \n",
      " 6   PROD_QTY        264836 non-null  int64  \n",
      " 7   TOT_SALES       264836 non-null  float64\n",
      "dtypes: float64(1), int64(5), object(2)\n",
      "memory usage: 16.2+ MB\n"
     ]
    }
   ],
   "source": [
    "pf.info()"
   ]
  },
  {
   "cell_type": "code",
   "execution_count": 15,
   "id": "fb4ef6a0-ad15-42e1-ad34-b08cfd1bc8ae",
   "metadata": {},
   "outputs": [],
   "source": [
    "pf[\"DATE\"]=pf[\"DATE\"].str.split(\" \").str[0]"
   ]
  },
  {
   "cell_type": "markdown",
   "id": "bccfcc11-7e98-4ed4-99fe-b5d45faef979",
   "metadata": {},
   "source": [
    "# Achieved an proper \"Date\" column"
   ]
  },
  {
   "cell_type": "markdown",
   "id": "ce749f34-5271-44da-a759-451754e6bda0",
   "metadata": {},
   "source": [
    "# Checking the \"STORE_NBR\" column"
   ]
  },
  {
   "cell_type": "code",
   "execution_count": 17,
   "id": "6d7eaaa5-63f3-4141-905e-be066251c4c1",
   "metadata": {},
   "outputs": [
    {
     "data": {
      "text/plain": [
       "272"
      ]
     },
     "execution_count": 17,
     "metadata": {},
     "output_type": "execute_result"
    }
   ],
   "source": [
    "pf[\"STORE_NBR\"].nunique()"
   ]
  },
  {
   "cell_type": "code",
   "execution_count": 18,
   "id": "1f6500cf-abcb-4850-b3ce-a6ec17f0c226",
   "metadata": {},
   "outputs": [
    {
     "data": {
      "text/plain": [
       "STORE_NBR\n",
       "226    2022\n",
       "88     1873\n",
       "93     1832\n",
       "165    1819\n",
       "237    1785\n",
       "       ... \n",
       "11        2\n",
       "252       2\n",
       "206       2\n",
       "92        1\n",
       "76        1\n",
       "Name: count, Length: 272, dtype: int64"
      ]
     },
     "execution_count": 18,
     "metadata": {},
     "output_type": "execute_result"
    }
   ],
   "source": [
    "pf[\"STORE_NBR\"].value_counts()"
   ]
  },
  {
   "cell_type": "markdown",
   "id": "3c29b684-0a77-4983-8379-76a1e719abd5",
   "metadata": {},
   "source": [
    "#Checking the \"PROD_NAME\" column"
   ]
  },
  {
   "cell_type": "code",
   "execution_count": 19,
   "id": "da6a6bf5-8a4d-4844-9d1b-8eff2949b8e0",
   "metadata": {},
   "outputs": [
    {
     "data": {
      "text/plain": [
       "0      Natural Chip        Compny SeaSalt175g\n",
       "1                    CCs Nacho Cheese    175g\n",
       "2      Smiths Crinkle Cut  Chips Chicken 170g\n",
       "3      Smiths Chip Thinly  S/Cream&Onion 175g\n",
       "4    Kettle Tortilla ChpsHny&Jlpno Chili 150g\n",
       "5    Old El Paso Salsa   Dip Tomato Mild 300g\n",
       "6    Smiths Crinkle Chips Salt & Vinegar 330g\n",
       "7       Grain Waves         Sweet Chilli 210g\n",
       "8     Doritos Corn Chip Mexican Jalapeno 150g\n",
       "9       Grain Waves Sour    Cream&Chives 210G\n",
       "Name: PROD_NAME, dtype: object"
      ]
     },
     "execution_count": 19,
     "metadata": {},
     "output_type": "execute_result"
    }
   ],
   "source": [
    "pf[\"PROD_NAME\"].head(10)"
   ]
  },
  {
   "cell_type": "code",
   "execution_count": 20,
   "id": "35e17db8-2d8c-4969-9b56-74b8c62aef12",
   "metadata": {},
   "outputs": [
    {
     "data": {
      "text/plain": [
       "array(['Natural Chip        Compny SeaSalt175g',\n",
       "       'CCs Nacho Cheese    175g',\n",
       "       'Smiths Crinkle Cut  Chips Chicken 170g',\n",
       "       'Smiths Chip Thinly  S/Cream&Onion 175g',\n",
       "       'Kettle Tortilla ChpsHny&Jlpno Chili 150g',\n",
       "       'Old El Paso Salsa   Dip Tomato Mild 300g',\n",
       "       'Smiths Crinkle Chips Salt & Vinegar 330g',\n",
       "       'Grain Waves         Sweet Chilli 210g',\n",
       "       'Doritos Corn Chip Mexican Jalapeno 150g',\n",
       "       'Grain Waves Sour    Cream&Chives 210G',\n",
       "       'Kettle Sensations   Siracha Lime 150g',\n",
       "       'Twisties Cheese     270g', 'WW Crinkle Cut      Chicken 175g',\n",
       "       'Thins Chips Light&  Tangy 175g', 'CCs Original 175g',\n",
       "       'Burger Rings 220g', 'NCC Sour Cream &    Garden Chives 175g',\n",
       "       'Doritos Corn Chip Southern Chicken 150g',\n",
       "       'Cheezels Cheese Box 125g', 'Smiths Crinkle      Original 330g',\n",
       "       'Infzns Crn Crnchers Tangy Gcamole 110g',\n",
       "       'Kettle Sea Salt     And Vinegar 175g',\n",
       "       'Smiths Chip Thinly  Cut Original 175g', 'Kettle Original 175g',\n",
       "       'Red Rock Deli Thai  Chilli&Lime 150g',\n",
       "       'Pringles Sthrn FriedChicken 134g', 'Pringles Sweet&Spcy BBQ 134g',\n",
       "       'Red Rock Deli SR    Salsa & Mzzrlla 150g',\n",
       "       'Thins Chips         Originl saltd 175g',\n",
       "       'Red Rock Deli Sp    Salt & Truffle 150G',\n",
       "       'Smiths Thinly       Swt Chli&S/Cream175G', 'Kettle Chilli 175g',\n",
       "       'Doritos Mexicana    170g',\n",
       "       'Smiths Crinkle Cut  French OnionDip 150g',\n",
       "       'Natural ChipCo      Hony Soy Chckn175g',\n",
       "       'Dorito Corn Chp     Supreme 380g', 'Twisties Chicken270g',\n",
       "       'Smiths Thinly Cut   Roast Chicken 175g',\n",
       "       'Smiths Crinkle Cut  Tomato Salsa 150g',\n",
       "       'Kettle Mozzarella   Basil & Pesto 175g',\n",
       "       'Infuzions Thai SweetChili PotatoMix 110g',\n",
       "       'Kettle Sensations   Camembert & Fig 150g',\n",
       "       'Smith Crinkle Cut   Mac N Cheese 150g',\n",
       "       'Kettle Honey Soy    Chicken 175g',\n",
       "       'Thins Chips Seasonedchicken 175g',\n",
       "       'Smiths Crinkle Cut  Salt & Vinegar 170g',\n",
       "       'Infuzions BBQ Rib   Prawn Crackers 110g',\n",
       "       'GrnWves Plus Btroot & Chilli Jam 180g',\n",
       "       'Tyrrells Crisps     Lightly Salted 165g',\n",
       "       'Kettle Sweet Chilli And Sour Cream 175g',\n",
       "       'Doritos Salsa       Medium 300g', 'Kettle 135g Swt Pot Sea Salt',\n",
       "       'Pringles SourCream  Onion 134g',\n",
       "       'Doritos Corn Chips  Original 170g',\n",
       "       'Twisties Cheese     Burger 250g',\n",
       "       'Old El Paso Salsa   Dip Chnky Tom Ht300g',\n",
       "       'Cobs Popd Swt/Chlli &Sr/Cream Chips 110g',\n",
       "       'Woolworths Mild     Salsa 300g',\n",
       "       'Natural Chip Co     Tmato Hrb&Spce 175g',\n",
       "       'Smiths Crinkle Cut  Chips Original 170g',\n",
       "       'Cobs Popd Sea Salt  Chips 110g',\n",
       "       'Smiths Crinkle Cut  Chips Chs&Onion170g',\n",
       "       'French Fries Potato Chips 175g',\n",
       "       'Old El Paso Salsa   Dip Tomato Med 300g',\n",
       "       'Doritos Corn Chips  Cheese Supreme 170g',\n",
       "       'Pringles Original   Crisps 134g',\n",
       "       'RRD Chilli&         Coconut 150g',\n",
       "       'WW Original Corn    Chips 200g',\n",
       "       'Thins Potato Chips  Hot & Spicy 175g',\n",
       "       'Cobs Popd Sour Crm  &Chives Chips 110g',\n",
       "       'Smiths Crnkle Chip  Orgnl Big Bag 380g',\n",
       "       'Doritos Corn Chips  Nacho Cheese 170g',\n",
       "       'Kettle Sensations   BBQ&Maple 150g',\n",
       "       'WW D/Style Chip     Sea Salt 200g',\n",
       "       'Pringles Chicken    Salt Crips 134g',\n",
       "       'WW Original Stacked Chips 160g',\n",
       "       'Smiths Chip Thinly  CutSalt/Vinegr175g', 'Cheezels Cheese 330g',\n",
       "       'Tostitos Lightly    Salted 175g',\n",
       "       'Thins Chips Salt &  Vinegar 175g',\n",
       "       'Smiths Crinkle Cut  Chips Barbecue 170g', 'Cheetos Puffs 165g',\n",
       "       'RRD Sweet Chilli &  Sour Cream 165g',\n",
       "       'WW Crinkle Cut      Original 175g',\n",
       "       'Tostitos Splash Of  Lime 175g', 'Woolworths Medium   Salsa 300g',\n",
       "       'Kettle Tortilla ChpsBtroot&Ricotta 150g',\n",
       "       'CCs Tasty Cheese    175g', 'Woolworths Cheese   Rings 190g',\n",
       "       'Tostitos Smoked     Chipotle 175g', 'Pringles Barbeque   134g',\n",
       "       'WW Supreme Cheese   Corn Chips 200g',\n",
       "       'Pringles Mystery    Flavour 134g',\n",
       "       'Tyrrells Crisps     Ched & Chives 165g',\n",
       "       'Snbts Whlgrn Crisps Cheddr&Mstrd 90g',\n",
       "       'Cheetos Chs & Bacon Balls 190g', 'Pringles Slt Vingar 134g',\n",
       "       'Infuzions SourCream&Herbs Veg Strws 110g',\n",
       "       'Kettle Tortilla ChpsFeta&Garlic 150g',\n",
       "       'Infuzions Mango     Chutny Papadums 70g',\n",
       "       'RRD Steak &         Chimuchurri 150g',\n",
       "       'RRD Honey Soy       Chicken 165g',\n",
       "       'Sunbites Whlegrn    Crisps Frch/Onin 90g',\n",
       "       'RRD Salt & Vinegar  165g', 'Doritos Cheese      Supreme 330g',\n",
       "       'Smiths Crinkle Cut  Snag&Sauce 150g',\n",
       "       'WW Sour Cream &OnionStacked Chips 160g',\n",
       "       'RRD Lime & Pepper   165g',\n",
       "       'Natural ChipCo Sea  Salt & Vinegr 175g',\n",
       "       'Red Rock Deli Chikn&Garlic Aioli 150g',\n",
       "       'RRD SR Slow Rst     Pork Belly 150g', 'RRD Pc Sea Salt     165g',\n",
       "       'Smith Crinkle Cut   Bolognese 150g', 'Doritos Salsa Mild  300g'],\n",
       "      dtype=object)"
      ]
     },
     "execution_count": 20,
     "metadata": {},
     "output_type": "execute_result"
    }
   ],
   "source": [
    "pf[\"PROD_NAME\"].unique()"
   ]
  },
  {
   "cell_type": "markdown",
   "id": "5000e3c2-93a6-4b95-9e1c-3bc90d58c5f6",
   "metadata": {},
   "source": [
    "# \"PROD_NAME\" column has product names as well as the quantities, that needs to be separated in the different column."
   ]
  },
  {
   "cell_type": "code",
   "execution_count": 22,
   "id": "3fce5208-5e0e-4540-8c78-4d17b5d1d825",
   "metadata": {},
   "outputs": [],
   "source": [
    "pf[\"PROD_QUANTITY\"]=pf[\"PROD_NAME\"].str.strip().str.split(\" \").str[-1]"
   ]
  },
  {
   "cell_type": "code",
   "execution_count": 23,
   "id": "aeac5602-9b1d-4704-81db-4be9a178fce7",
   "metadata": {},
   "outputs": [
    {
     "data": {
      "text/plain": [
       "array(['SeaSalt175g', '175g', '170g', '150g', '300g', '330g', '210g',\n",
       "       '210G', '270g', '220g', '125g', '110g', '134g', '150G',\n",
       "       'Chli&S/Cream175G', 'Chckn175g', '380g', 'Chicken270g', '180g',\n",
       "       '165g', 'Salt', '250g', 'Ht300g', 'Chs&Onion170g', '200g', '160g',\n",
       "       'CutSalt/Vinegr175g', '190g', '90g', '70g'], dtype=object)"
      ]
     },
     "execution_count": 23,
     "metadata": {},
     "output_type": "execute_result"
    }
   ],
   "source": [
    "pf[\"PROD_QUANTITY\"].unique()"
   ]
  },
  {
   "cell_type": "code",
   "execution_count": 25,
   "id": "4781d414-f81a-4d2a-b545-f7471ecbb979",
   "metadata": {},
   "outputs": [
    {
     "data": {
      "text/plain": [
       "0                                     Natural Chip\n",
       "1                                 CCs Nacho Cheese\n",
       "2                               Smiths Crinkle Cut\n",
       "3                               Smiths Chip Thinly\n",
       "4         Kettle Tortilla ChpsHny&Jlpno Chili 150g\n",
       "                            ...                   \n",
       "264831     Kettle Sweet Chilli And Sour Cream 175g\n",
       "264832                          Tostitos Splash Of\n",
       "264833                            Doritos Mexicana\n",
       "264834     Doritos Corn Chip Mexican Jalapeno 150g\n",
       "264835                          Tostitos Splash Of\n",
       "Name: PROD_NAME, Length: 264836, dtype: object"
      ]
     },
     "execution_count": 25,
     "metadata": {},
     "output_type": "execute_result"
    }
   ],
   "source": [
    "pf[\"PROD_NAME\"].str.strip().str.split(\"  \").str[0]"
   ]
  },
  {
   "cell_type": "code",
   "execution_count": 26,
   "id": "ea21ecf9-903d-42fa-ad42-899611bea21b",
   "metadata": {},
   "outputs": [],
   "source": [
    "pf['Cleaned_Quantity'] = pf['PROD_NAME'].str.extract(r'(\\d+g|\\d+G)')"
   ]
  },
  {
   "cell_type": "code",
   "execution_count": 28,
   "id": "98c26794-413a-4f1d-a543-e26427efe4e4",
   "metadata": {},
   "outputs": [
    {
     "data": {
      "text/plain": [
       "array(['Natural Chip        Compny SeaSalt175g',\n",
       "       'CCs Nacho Cheese    175g',\n",
       "       'Smiths Crinkle Cut  Chips Chicken 170g',\n",
       "       'Smiths Chip Thinly  S/Cream&Onion 175g',\n",
       "       'Kettle Tortilla ChpsHny&Jlpno Chili 150g',\n",
       "       'Old El Paso Salsa   Dip Tomato Mild 300g',\n",
       "       'Smiths Crinkle Chips Salt & Vinegar 330g',\n",
       "       'Grain Waves         Sweet Chilli 210g',\n",
       "       'Doritos Corn Chip Mexican Jalapeno 150g',\n",
       "       'Grain Waves Sour    Cream&Chives 210G',\n",
       "       'Kettle Sensations   Siracha Lime 150g',\n",
       "       'Twisties Cheese     270g', 'WW Crinkle Cut      Chicken 175g',\n",
       "       'Thins Chips Light&  Tangy 175g', 'CCs Original 175g',\n",
       "       'Burger Rings 220g', 'NCC Sour Cream &    Garden Chives 175g',\n",
       "       'Doritos Corn Chip Southern Chicken 150g',\n",
       "       'Cheezels Cheese Box 125g', 'Smiths Crinkle      Original 330g',\n",
       "       'Infzns Crn Crnchers Tangy Gcamole 110g',\n",
       "       'Kettle Sea Salt     And Vinegar 175g',\n",
       "       'Smiths Chip Thinly  Cut Original 175g', 'Kettle Original 175g',\n",
       "       'Red Rock Deli Thai  Chilli&Lime 150g',\n",
       "       'Pringles Sthrn FriedChicken 134g', 'Pringles Sweet&Spcy BBQ 134g',\n",
       "       'Red Rock Deli SR    Salsa & Mzzrlla 150g',\n",
       "       'Thins Chips         Originl saltd 175g',\n",
       "       'Red Rock Deli Sp    Salt & Truffle 150G',\n",
       "       'Smiths Thinly       Swt Chli&S/Cream175G', 'Kettle Chilli 175g',\n",
       "       'Doritos Mexicana    170g',\n",
       "       'Smiths Crinkle Cut  French OnionDip 150g',\n",
       "       'Natural ChipCo      Hony Soy Chckn175g',\n",
       "       'Dorito Corn Chp     Supreme 380g', 'Twisties Chicken270g',\n",
       "       'Smiths Thinly Cut   Roast Chicken 175g',\n",
       "       'Smiths Crinkle Cut  Tomato Salsa 150g',\n",
       "       'Kettle Mozzarella   Basil & Pesto 175g',\n",
       "       'Infuzions Thai SweetChili PotatoMix 110g',\n",
       "       'Kettle Sensations   Camembert & Fig 150g',\n",
       "       'Smith Crinkle Cut   Mac N Cheese 150g',\n",
       "       'Kettle Honey Soy    Chicken 175g',\n",
       "       'Thins Chips Seasonedchicken 175g',\n",
       "       'Smiths Crinkle Cut  Salt & Vinegar 170g',\n",
       "       'Infuzions BBQ Rib   Prawn Crackers 110g',\n",
       "       'GrnWves Plus Btroot & Chilli Jam 180g',\n",
       "       'Tyrrells Crisps     Lightly Salted 165g',\n",
       "       'Kettle Sweet Chilli And Sour Cream 175g',\n",
       "       'Doritos Salsa       Medium 300g', 'Kettle 135g Swt Pot Sea Salt',\n",
       "       'Pringles SourCream  Onion 134g',\n",
       "       'Doritos Corn Chips  Original 170g',\n",
       "       'Twisties Cheese     Burger 250g',\n",
       "       'Old El Paso Salsa   Dip Chnky Tom Ht300g',\n",
       "       'Cobs Popd Swt/Chlli &Sr/Cream Chips 110g',\n",
       "       'Woolworths Mild     Salsa 300g',\n",
       "       'Natural Chip Co     Tmato Hrb&Spce 175g',\n",
       "       'Smiths Crinkle Cut  Chips Original 170g',\n",
       "       'Cobs Popd Sea Salt  Chips 110g',\n",
       "       'Smiths Crinkle Cut  Chips Chs&Onion170g',\n",
       "       'French Fries Potato Chips 175g',\n",
       "       'Old El Paso Salsa   Dip Tomato Med 300g',\n",
       "       'Doritos Corn Chips  Cheese Supreme 170g',\n",
       "       'Pringles Original   Crisps 134g',\n",
       "       'RRD Chilli&         Coconut 150g',\n",
       "       'WW Original Corn    Chips 200g',\n",
       "       'Thins Potato Chips  Hot & Spicy 175g',\n",
       "       'Cobs Popd Sour Crm  &Chives Chips 110g',\n",
       "       'Smiths Crnkle Chip  Orgnl Big Bag 380g',\n",
       "       'Doritos Corn Chips  Nacho Cheese 170g',\n",
       "       'Kettle Sensations   BBQ&Maple 150g',\n",
       "       'WW D/Style Chip     Sea Salt 200g',\n",
       "       'Pringles Chicken    Salt Crips 134g',\n",
       "       'WW Original Stacked Chips 160g',\n",
       "       'Smiths Chip Thinly  CutSalt/Vinegr175g', 'Cheezels Cheese 330g',\n",
       "       'Tostitos Lightly    Salted 175g',\n",
       "       'Thins Chips Salt &  Vinegar 175g',\n",
       "       'Smiths Crinkle Cut  Chips Barbecue 170g', 'Cheetos Puffs 165g',\n",
       "       'RRD Sweet Chilli &  Sour Cream 165g',\n",
       "       'WW Crinkle Cut      Original 175g',\n",
       "       'Tostitos Splash Of  Lime 175g', 'Woolworths Medium   Salsa 300g',\n",
       "       'Kettle Tortilla ChpsBtroot&Ricotta 150g',\n",
       "       'CCs Tasty Cheese    175g', 'Woolworths Cheese   Rings 190g',\n",
       "       'Tostitos Smoked     Chipotle 175g', 'Pringles Barbeque   134g',\n",
       "       'WW Supreme Cheese   Corn Chips 200g',\n",
       "       'Pringles Mystery    Flavour 134g',\n",
       "       'Tyrrells Crisps     Ched & Chives 165g',\n",
       "       'Snbts Whlgrn Crisps Cheddr&Mstrd 90g',\n",
       "       'Cheetos Chs & Bacon Balls 190g', 'Pringles Slt Vingar 134g',\n",
       "       'Infuzions SourCream&Herbs Veg Strws 110g',\n",
       "       'Kettle Tortilla ChpsFeta&Garlic 150g',\n",
       "       'Infuzions Mango     Chutny Papadums 70g',\n",
       "       'RRD Steak &         Chimuchurri 150g',\n",
       "       'RRD Honey Soy       Chicken 165g',\n",
       "       'Sunbites Whlegrn    Crisps Frch/Onin 90g',\n",
       "       'RRD Salt & Vinegar  165g', 'Doritos Cheese      Supreme 330g',\n",
       "       'Smiths Crinkle Cut  Snag&Sauce 150g',\n",
       "       'WW Sour Cream &OnionStacked Chips 160g',\n",
       "       'RRD Lime & Pepper   165g',\n",
       "       'Natural ChipCo Sea  Salt & Vinegr 175g',\n",
       "       'Red Rock Deli Chikn&Garlic Aioli 150g',\n",
       "       'RRD SR Slow Rst     Pork Belly 150g', 'RRD Pc Sea Salt     165g',\n",
       "       'Smith Crinkle Cut   Bolognese 150g', 'Doritos Salsa Mild  300g'],\n",
       "      dtype=object)"
      ]
     },
     "execution_count": 28,
     "metadata": {},
     "output_type": "execute_result"
    }
   ],
   "source": [
    "pf[\"PROD_NAME\"].unique()"
   ]
  },
  {
   "cell_type": "code",
   "execution_count": 29,
   "id": "619e34a5-aff2-430c-9c61-ea02a9b85cd6",
   "metadata": {},
   "outputs": [],
   "source": [
    "# Removing the quantities from the 'PROD_NAME' column\n",
    "pf['PROD_NAME'] = pf['PROD_NAME'].str.replace(r'\\d+[gG]', '', regex=True)\n",
    "\n",
    "# Clean up extra spaces and special characters\n",
    "pf['PROD_NAME'] = pf['PROD_NAME'].str.replace(r'[^\\w\\s&]', '', regex=True)\n",
    "\n",
    "# Strip leading and trailing spaces\n",
    "pf['PROD_NAME'] = pf['PROD_NAME'].str.strip()"
   ]
  },
  {
   "cell_type": "code",
   "execution_count": 31,
   "id": "8a12b264-7a35-465b-a683-8e31b8473b8c",
   "metadata": {},
   "outputs": [],
   "source": [
    "pf.drop(columns=[\"PROD_QUANTITY\"],inplace=True)"
   ]
  },
  {
   "cell_type": "markdown",
   "id": "4c95f55c-11b1-4172-841b-d19791c3c146",
   "metadata": {},
   "source": [
    "# The data is clean,now checking for outliers."
   ]
  },
  {
   "cell_type": "code",
   "execution_count": 33,
   "id": "270aa717-47dd-4743-bc64-1998293bc226",
   "metadata": {},
   "outputs": [
    {
     "data": {
      "text/plain": [
       "array([  2,   3,   5,   1,   4, 200], dtype=int64)"
      ]
     },
     "execution_count": 33,
     "metadata": {},
     "output_type": "execute_result"
    }
   ],
   "source": [
    "pf[\"PROD_QTY\"].unique()"
   ]
  },
  {
   "cell_type": "markdown",
   "id": "e638ab4e-7a38-4caf-a12c-fe13e1c20545",
   "metadata": {},
   "source": [
    "# Checking the outliers using boxplot."
   ]
  },
  {
   "cell_type": "code",
   "execution_count": 34,
   "id": "066cf773-def3-4ef7-a3d3-f7686792215d",
   "metadata": {},
   "outputs": [],
   "source": [
    "import seaborn as sns"
   ]
  },
  {
   "cell_type": "code",
   "execution_count": 35,
   "id": "636f44b4-861e-48c1-8c0f-bf2fe02a904c",
   "metadata": {},
   "outputs": [
    {
     "data": {
      "text/plain": [
       "<Axes: ylabel='PROD_QTY'>"
      ]
     },
     "execution_count": 35,
     "metadata": {},
     "output_type": "execute_result"
    },
    {
     "data": {
      "image/png": "[encoded data removed]",
      "text/plain": [
       "<Figure size 640x480 with 1 Axes>"
      ]
     },
     "metadata": {},
     "output_type": "display_data"
    }
   ],
   "source": [
    "sns.boxplot(pf[\"PROD_QTY\"])"
   ]
  },
  {
   "cell_type": "code",
   "execution_count": 36,
   "id": "8a439517-0116-41bc-8c69-4c44ad33aa40",
   "metadata": {},
   "outputs": [
    {
     "data": {
      "text/plain": [
       "array([  2,   3,   5,   1,   4, 200], dtype=int64)"
      ]
     },
     "execution_count": 36,
     "metadata": {},
     "output_type": "execute_result"
    }
   ],
   "source": [
    "pf[\"PROD_QTY\"].unique()"
   ]
  },
  {
   "cell_type": "code",
   "execution_count": 37,
   "id": "5d4d5878-b2cc-431d-98af-1bf492de6f9b",
   "metadata": {},
   "outputs": [
    {
     "data": {
      "text/plain": [
       "PROD_QTY\n",
       "2      236039\n",
       "1       27518\n",
       "5         450\n",
       "3         430\n",
       "4         397\n",
       "200         2\n",
       "Name: count, dtype: int64"
      ]
     },
     "execution_count": 37,
     "metadata": {},
     "output_type": "execute_result"
    }
   ],
   "source": [
    "pf[\"PROD_QTY\"].value_counts()"
   ]
  },
  {
   "cell_type": "markdown",
   "id": "483671d7-7aa0-4f7c-9719-12593da725e2",
   "metadata": {},
   "source": [
    "# The outliers need to be removed"
   ]
  },
  {
   "cell_type": "code",
   "execution_count": 38,
   "id": "4e26c2b9-a2ae-4d3a-bd80-3c826f1488d7",
   "metadata": {},
   "outputs": [],
   "source": [
    "pf=pf[~(pf[\"PROD_QTY\"]==200)]"
   ]
  },
  {
   "cell_type": "code",
   "execution_count": 39,
   "id": "82b1a78e-b1cc-457b-bb0c-7e59c02958bb",
   "metadata": {},
   "outputs": [
    {
     "data": {
      "text/plain": [
       "array([2, 3, 5, 1, 4], dtype=int64)"
      ]
     },
     "execution_count": 39,
     "metadata": {},
     "output_type": "execute_result"
    }
   ],
   "source": [
    "pf[\"PROD_QTY\"].unique()"
   ]
  },
  {
   "cell_type": "markdown",
   "id": "a797cfce-3e4d-497c-a7ad-966ff7ab2201",
   "metadata": {},
   "source": [
    "# Checking rest of the columns"
   ]
  },
  {
   "cell_type": "code",
   "execution_count": 41,
   "id": "55075e90-c9a6-4473-968e-44a7e0937e68",
   "metadata": {},
   "outputs": [
    {
     "data": {
      "text/plain": [
       "dtype('float64')"
      ]
     },
     "execution_count": 41,
     "metadata": {},
     "output_type": "execute_result"
    }
   ],
   "source": [
    "pf[\"TOT_SALES\"].dtypes"
   ]
  },
  {
   "cell_type": "code",
   "execution_count": 42,
   "id": "9e7a8661-fd9c-4709-8e07-2eb3eda852ec",
   "metadata": {},
   "outputs": [
    {
     "data": {
      "text/plain": [
       "array([ 6.  ,  6.3 ,  2.9 , 15.  , 13.8 ,  5.1 ,  5.7 ,  3.6 ,  3.9 ,\n",
       "        7.2 , 23.  ,  9.2 ,  1.7 ,  3.3 ,  2.1 ,  3.  ,  3.8 ,  5.4 ,\n",
       "        2.7 ,  3.7 , 14.8 ,  4.4 ,  6.6 ,  2.6 ,  3.25,  4.6 ,  5.8 ,\n",
       "       15.5 ,  7.8 ,  4.2 ,  7.4 ,  7.6 ,  8.4 ,  6.5 ,  4.3 , 28.5 ,\n",
       "        7.5 ,  3.4 , 19.  , 11.8 , 17.6 ,  9.  , 13.2 ,  1.9 , 10.2 ,\n",
       "       13.  , 15.2 , 11.4 , 14.5 ,  5.6 , 10.8 , 10.4 ,  1.5 , 16.5 ,\n",
       "        1.8 ,  5.2 ,  5.9 , 18.4 ,  8.8 , 18.5 ,  6.2 ,  4.8 ,  8.6 ,\n",
       "        2.8 ,  2.3 ,  3.1 ,  2.4 , 15.6 , 19.5 , 27.  ,  9.9 , 16.2 ,\n",
       "       13.5 , 21.6 , 23.6 , 29.5 , 12.6 ,  8.1 , 15.3 , 11.1 , 22.  ,\n",
       "        9.5 , 16.25, 20.4 , 11.7 , 22.8 ,  9.6 ,  8.5 , 10.5 , 21.  ,\n",
       "       12.  , 14.4 ,  9.75, 16.8 , 25.5 , 17.7 , 17.2 , 17.1 ,  4.5 ,\n",
       "        6.8 , 18.  , 12.9 , 11.5 ,  8.7 , 14.  , 11.6 , 12.4 , 21.5 ,\n",
       "        9.3 , 11.2 ,  6.9 ])"
      ]
     },
     "execution_count": 42,
     "metadata": {},
     "output_type": "execute_result"
    }
   ],
   "source": [
    "pf[\"TOT_SALES\"].unique()"
   ]
  },
  {
   "cell_type": "code",
   "execution_count": 43,
   "id": "803b7f4a-a6fb-48f3-99bc-4cd3a114bfcd",
   "metadata": {},
   "outputs": [
    {
     "data": {
      "text/plain": [
       "TOT_SALES\n",
       "9.2     22821\n",
       "7.4     22513\n",
       "6.0     20798\n",
       "7.6     20212\n",
       "8.8     19900\n",
       "        ...  \n",
       "15.5        3\n",
       "9.3         3\n",
       "6.9         3\n",
       "12.4        2\n",
       "11.2        2\n",
       "Name: count, Length: 111, dtype: int64"
      ]
     },
     "execution_count": 43,
     "metadata": {},
     "output_type": "execute_result"
    }
   ],
   "source": [
    "pf[\"TOT_SALES\"].value_counts()"
   ]
  },
  {
   "cell_type": "code",
   "execution_count": 44,
   "id": "99ffc8fc-cdb6-42a8-ae94-4c87539f13c2",
   "metadata": {},
   "outputs": [
    {
     "data": {
      "text/plain": [
       "Cleaned_Quantity\n",
       "175g    64929\n",
       "150g    41633\n",
       "134g    25102\n",
       "110g    22387\n",
       "170g    19983\n",
       "165g    15297\n",
       "300g    15166\n",
       "330g    12540\n",
       "380g     6416\n",
       "270g     6285\n",
       "200g     4473\n",
       "135g     3257\n",
       "250g     3169\n",
       "210g     3167\n",
       "210G     3105\n",
       "90g      3008\n",
       "190g     2995\n",
       "160g     2970\n",
       "220g     1564\n",
       "70g      1507\n",
       "150G     1498\n",
       "180g     1468\n",
       "175G     1461\n",
       "125g     1454\n",
       "Name: count, dtype: int64"
      ]
     },
     "execution_count": 44,
     "metadata": {},
     "output_type": "execute_result"
    }
   ],
   "source": [
    "pf[\"Cleaned_Quantity\"].value_counts()"
   ]
  },
  {
   "cell_type": "markdown",
   "id": "ef044b17-6f10-4c30-aade-ec09bf2e7e57",
   "metadata": {},
   "source": [
    "# Both the datesets are cleaned and ready to be merged based on common column."
   ]
  },
  {
   "cell_type": "code",
   "execution_count": null,
   "id": "0cd4a0ad-1097-4f1a-a7d0-c77ee7f9d3b3",
   "metadata": {},
   "outputs": [
    {
     "data": {
      "text/html": [
       "<div>\n",
       "<style scoped>\n",
       "    .dataframe tbody tr th:only-of-type {\n",
       "        vertical-align: middle;\n",
       "    }\n",
       "\n",
       "    .dataframe tbody tr th {\n",
       "        vertical-align: top;\n",
       "    }\n",
       "\n",
       "    .dataframe thead th {\n",
       "        text-align: right;\n",
       "    }\n",
       "</style>\n",
       "<table border=\"1\" class=\"dataframe\">\n",
       "  <thead>\n",
       "    <tr style=\"text-align: right;\">\n",
       "      <th></th>\n",
       "      <th>LYLTY_CARD_NBR</th>\n",
       "      <th>LIFESTAGE</th>\n",
       "      <th>PREMIUM_CUSTOMER</th>\n",
       "      <th>DATE</th>\n",
       "      <th>STORE_NBR</th>\n",
       "      <th>TXN_ID</th>\n",
       "      <th>PROD_NBR</th>\n",
       "      <th>PROD_NAME</th>\n",
       "      <th>PROD_QTY</th>\n",
       "      <th>TOT_SALES</th>\n",
       "      <th>Cleaned_Quantity</th>\n",
       "    </tr>\n",
       "  </thead>\n",
       "  <tbody>\n",
       "    <tr>\n",
       "      <th>0</th>\n",
       "      <td>1000</td>\n",
       "      <td>YOUNG SINGLES/COUPLES</td>\n",
       "      <td>Premium</td>\n",
       "      <td>1970-01-01</td>\n",
       "      <td>1</td>\n",
       "      <td>1</td>\n",
       "      <td>5</td>\n",
       "      <td>Natural Chip        Compny SeaSalt</td>\n",
       "      <td>2</td>\n",
       "      <td>6.0</td>\n",
       "      <td>175g</td>\n",
       "    </tr>\n",
       "    <tr>\n",
       "      <th>1</th>\n",
       "      <td>1002</td>\n",
       "      <td>YOUNG SINGLES/COUPLES</td>\n",
       "      <td>Mainstream</td>\n",
       "      <td>1970-01-01</td>\n",
       "      <td>1</td>\n",
       "      <td>2</td>\n",
       "      <td>58</td>\n",
       "      <td>Red Rock Deli Chikn&amp;Garlic Aioli</td>\n",
       "      <td>1</td>\n",
       "      <td>2.7</td>\n",
       "      <td>150g</td>\n",
       "    </tr>\n",
       "    <tr>\n",
       "      <th>2</th>\n",
       "      <td>1003</td>\n",
       "      <td>YOUNG FAMILIES</td>\n",
       "      <td>Budget</td>\n",
       "      <td>1970-01-01</td>\n",
       "      <td>1</td>\n",
       "      <td>3</td>\n",
       "      <td>52</td>\n",
       "      <td>Grain Waves Sour    Cream&amp;Chives</td>\n",
       "      <td>1</td>\n",
       "      <td>3.6</td>\n",
       "      <td>210G</td>\n",
       "    </tr>\n",
       "    <tr>\n",
       "      <th>3</th>\n",
       "      <td>1003</td>\n",
       "      <td>YOUNG FAMILIES</td>\n",
       "      <td>Budget</td>\n",
       "      <td>1970-01-01</td>\n",
       "      <td>1</td>\n",
       "      <td>4</td>\n",
       "      <td>106</td>\n",
       "      <td>Natural ChipCo      Hony Soy Chckn</td>\n",
       "      <td>1</td>\n",
       "      <td>3.0</td>\n",
       "      <td>175g</td>\n",
       "    </tr>\n",
       "    <tr>\n",
       "      <th>4</th>\n",
       "      <td>1004</td>\n",
       "      <td>OLDER SINGLES/COUPLES</td>\n",
       "      <td>Mainstream</td>\n",
       "      <td>1970-01-01</td>\n",
       "      <td>1</td>\n",
       "      <td>5</td>\n",
       "      <td>96</td>\n",
       "      <td>WW Original Stacked Chips</td>\n",
       "      <td>1</td>\n",
       "      <td>1.9</td>\n",
       "      <td>160g</td>\n",
       "    </tr>\n",
       "    <tr>\n",
       "      <th>...</th>\n",
       "      <td>...</td>\n",
       "      <td>...</td>\n",
       "      <td>...</td>\n",
       "      <td>...</td>\n",
       "      <td>...</td>\n",
       "      <td>...</td>\n",
       "      <td>...</td>\n",
       "      <td>...</td>\n",
       "      <td>...</td>\n",
       "      <td>...</td>\n",
       "      <td>...</td>\n",
       "    </tr>\n",
       "    <tr>\n",
       "      <th>264829</th>\n",
       "      <td>2370701</td>\n",
       "      <td>YOUNG FAMILIES</td>\n",
       "      <td>Mainstream</td>\n",
       "      <td>1970-01-01</td>\n",
       "      <td>88</td>\n",
       "      <td>240378</td>\n",
       "      <td>24</td>\n",
       "      <td>Grain Waves         Sweet Chilli</td>\n",
       "      <td>2</td>\n",
       "      <td>7.2</td>\n",
       "      <td>210g</td>\n",
       "    </tr>\n",
       "    <tr>\n",
       "      <th>264830</th>\n",
       "      <td>2370751</td>\n",
       "      <td>YOUNG FAMILIES</td>\n",
       "      <td>Premium</td>\n",
       "      <td>1970-01-01</td>\n",
       "      <td>88</td>\n",
       "      <td>240394</td>\n",
       "      <td>60</td>\n",
       "      <td>Kettle Tortilla ChpsFeta&amp;Garlic</td>\n",
       "      <td>2</td>\n",
       "      <td>9.2</td>\n",
       "      <td>150g</td>\n",
       "    </tr>\n",
       "    <tr>\n",
       "      <th>264831</th>\n",
       "      <td>2370961</td>\n",
       "      <td>OLDER FAMILIES</td>\n",
       "      <td>Budget</td>\n",
       "      <td>1970-01-01</td>\n",
       "      <td>88</td>\n",
       "      <td>240480</td>\n",
       "      <td>70</td>\n",
       "      <td>Tyrrells Crisps     Lightly Salted</td>\n",
       "      <td>2</td>\n",
       "      <td>8.4</td>\n",
       "      <td>165g</td>\n",
       "    </tr>\n",
       "    <tr>\n",
       "      <th>264832</th>\n",
       "      <td>2370961</td>\n",
       "      <td>OLDER FAMILIES</td>\n",
       "      <td>Budget</td>\n",
       "      <td>1970-01-01</td>\n",
       "      <td>88</td>\n",
       "      <td>240481</td>\n",
       "      <td>65</td>\n",
       "      <td>Old El Paso Salsa   Dip Chnky Tom Ht</td>\n",
       "      <td>2</td>\n",
       "      <td>10.2</td>\n",
       "      <td>300g</td>\n",
       "    </tr>\n",
       "    <tr>\n",
       "      <th>264833</th>\n",
       "      <td>2373711</td>\n",
       "      <td>YOUNG SINGLES/COUPLES</td>\n",
       "      <td>Mainstream</td>\n",
       "      <td>1970-01-01</td>\n",
       "      <td>88</td>\n",
       "      <td>241815</td>\n",
       "      <td>16</td>\n",
       "      <td>Smiths Crinkle Chips Salt &amp; Vinegar</td>\n",
       "      <td>2</td>\n",
       "      <td>11.4</td>\n",
       "      <td>330g</td>\n",
       "    </tr>\n",
       "  </tbody>\n",
       "</table>\n",
       "<p>264834 rows × 11 columns</p>\n",
       "</div>"
      ],
      "text/plain": [
       "        LYLTY_CARD_NBR              LIFESTAGE PREMIUM_CUSTOMER        DATE  \\\n",
       "0                 1000  YOUNG SINGLES/COUPLES          Premium  1970-01-01   \n",
       "1                 1002  YOUNG SINGLES/COUPLES       Mainstream  1970-01-01   \n",
       "2                 1003         YOUNG FAMILIES           Budget  1970-01-01   \n",
       "3                 1003         YOUNG FAMILIES           Budget  1970-01-01   \n",
       "4                 1004  OLDER SINGLES/COUPLES       Mainstream  1970-01-01   \n",
       "...                ...                    ...              ...         ...   \n",
       "264829         2370701         YOUNG FAMILIES       Mainstream  1970-01-01   \n",
       "264830         2370751         YOUNG FAMILIES          Premium  1970-01-01   \n",
       "264831         2370961         OLDER FAMILIES           Budget  1970-01-01   \n",
       "264832         2370961         OLDER FAMILIES           Budget  1970-01-01   \n",
       "264833         2373711  YOUNG SINGLES/COUPLES       Mainstream  1970-01-01   \n",
       "\n",
       "        STORE_NBR  TXN_ID  PROD_NBR                             PROD_NAME  \\\n",
       "0               1       1         5    Natural Chip        Compny SeaSalt   \n",
       "1               1       2        58      Red Rock Deli Chikn&Garlic Aioli   \n",
       "2               1       3        52      Grain Waves Sour    Cream&Chives   \n",
       "3               1       4       106    Natural ChipCo      Hony Soy Chckn   \n",
       "4               1       5        96             WW Original Stacked Chips   \n",
       "...           ...     ...       ...                                   ...   \n",
       "264829         88  240378        24      Grain Waves         Sweet Chilli   \n",
       "264830         88  240394        60       Kettle Tortilla ChpsFeta&Garlic   \n",
       "264831         88  240480        70    Tyrrells Crisps     Lightly Salted   \n",
       "264832         88  240481        65  Old El Paso Salsa   Dip Chnky Tom Ht   \n",
       "264833         88  241815        16   Smiths Crinkle Chips Salt & Vinegar   \n",
       "\n",
       "        PROD_QTY  TOT_SALES Cleaned_Quantity  \n",
       "0              2        6.0             175g  \n",
       "1              1        2.7             150g  \n",
       "2              1        3.6             210G  \n",
       "3              1        3.0             175g  \n",
       "4              1        1.9             160g  \n",
       "...          ...        ...              ...  \n",
       "264829         2        7.2             210g  \n",
       "264830         2        9.2             150g  \n",
       "264831         2        8.4             165g  \n",
       "264832         2       10.2             300g  \n",
       "264833         2       11.4             330g  \n",
       "\n",
       "[264834 rows x 11 columns]"
      ]
     },
     "execution_count": 47,
     "metadata": {},
     "output_type": "execute_result"
    }
   ],
   "source": [
    "c=pd.merge(df,pf,on=\"LYLTY_CARD_NBR\")\n"
   ]
  },
  {
   "cell_type": "code",
   "execution_count": 48,
   "id": "0521f060-78fa-4d42-9758-70078ea43664",
   "metadata": {},
   "outputs": [
    {
     "data": {
      "text/plain": [
       "LYLTY_CARD_NBR        int64\n",
       "LIFESTAGE            object\n",
       "PREMIUM_CUSTOMER     object\n",
       "DATE                 object\n",
       "STORE_NBR             int64\n",
       "TXN_ID                int64\n",
       "PROD_NBR              int64\n",
       "PROD_NAME            object\n",
       "PROD_QTY              int64\n",
       "TOT_SALES           float64\n",
       "Cleaned_Quantity     object\n",
       "dtype: object"
      ]
     },
     "execution_count": 48,
     "metadata": {},
     "output_type": "execute_result"
    }
   ],
   "source": [
    "c.dtypes"
   ]
  },
  {
   "cell_type": "code",
   "execution_count": 49,
   "id": "44071d32-58a3-4631-a3d2-ef3039e1dc63",
   "metadata": {},
   "outputs": [],
   "source": [
    "c[\"DATE\"]=pd.to_datetime(c[\"DATE\"])"
   ]
  },
  {
   "cell_type": "code",
   "execution_count": 50,
   "id": "5a749fc8-9613-44fd-9827-6d59a44030dd",
   "metadata": {},
   "outputs": [
    {
     "data": {
      "text/plain": [
       "PREMIUM_CUSTOMER\n",
       "Mainstream    101988\n",
       "Budget         93157\n",
       "Premium        69689\n",
       "Name: count, dtype: int64"
      ]
     },
     "execution_count": 50,
     "metadata": {},
     "output_type": "execute_result"
    }
   ],
   "source": [
    "c[\"PREMIUM_CUSTOMER\"].value_counts()"
   ]
  },
  {
   "cell_type": "code",
   "execution_count": 51,
   "id": "d558e249-3f72-4773-b9f4-86c63af6daf6",
   "metadata": {},
   "outputs": [
    {
     "data": {
      "text/plain": [
       "PREMIUM_CUSTOMER\n",
       "Budget         93157\n",
       "Mainstream    101988\n",
       "Premium        69689\n",
       "dtype: int64"
      ]
     },
     "execution_count": 51,
     "metadata": {},
     "output_type": "execute_result"
    }
   ],
   "source": [
    "c[[\"PREMIUM_CUSTOMER\",\"PROD_NAME\"]].groupby(\"PREMIUM_CUSTOMER\").size()"
   ]
  },
  {
   "cell_type": "code",
   "execution_count": 52,
   "id": "bc90ae4a-9bb3-412f-b7c9-a7a751c2bdf2",
   "metadata": {},
   "outputs": [
    {
     "data": {
      "text/plain": [
       "Index(['LYLTY_CARD_NBR', 'LIFESTAGE', 'PREMIUM_CUSTOMER', 'DATE', 'STORE_NBR',\n",
       "       'TXN_ID', 'PROD_NBR', 'PROD_NAME', 'PROD_QTY', 'TOT_SALES',\n",
       "       'Cleaned_Quantity'],\n",
       "      dtype='object')"
      ]
     },
     "execution_count": 52,
     "metadata": {},
     "output_type": "execute_result"
    }
   ],
   "source": [
    "c.columns"
   ]
  },
  {
   "cell_type": "code",
   "execution_count": 53,
   "id": "861d8e61-c5cb-4a6c-a0f9-1fa9460fd5d6",
   "metadata": {},
   "outputs": [
    {
     "name": "stdout",
     "output_type": "stream",
     "text": [
      "                               PROD_QTY\n",
      "LIFESTAGE    PREMIUM_CUSTOMER          \n",
      "NEW FAMILIES Premium               2957\n",
      "             Mainstream            4319\n"
     ]
    }
   ],
   "source": [
    "# Group by 'LIFESTAGE' and 'PREMIUM_CUSTOMER', summing the 'PROD_QTY'\n",
    "customer_chip_purchases = c[[\"LIFESTAGE\", \"PREMIUM_CUSTOMER\", \"PROD_QTY\"]].groupby([\"LIFESTAGE\", \"PREMIUM_CUSTOMER\"]).sum()\n",
    "\n",
    "# Sort the results by 'PROD_QTY' in ascending order\n",
    "sorted_purchases = customer_chip_purchases.sort_values(by=\"PROD_QTY\", ascending=True)\n",
    "\n",
    "# Display the top 2 results\n",
    "top_customer_segments = sorted_purchases.head(2)\n",
    "\n",
    "# Show the result\n",
    "print(top_customer_segments)\n"
   ]
  },
  {
   "cell_type": "code",
   "execution_count": 54,
   "id": "f194ba79-3cd2-415e-86b8-45c601c9e3ba",
   "metadata": {},
   "outputs": [
    {
     "data": {
      "text/html": [
       "<div>\n",
       "<style scoped>\n",
       "    .dataframe tbody tr th:only-of-type {\n",
       "        vertical-align: middle;\n",
       "    }\n",
       "\n",
       "    .dataframe tbody tr th {\n",
       "        vertical-align: top;\n",
       "    }\n",
       "\n",
       "    .dataframe thead th {\n",
       "        text-align: right;\n",
       "    }\n",
       "</style>\n",
       "<table border=\"1\" class=\"dataframe\">\n",
       "  <thead>\n",
       "    <tr style=\"text-align: right;\">\n",
       "      <th></th>\n",
       "      <th></th>\n",
       "      <th>PROD_QTY</th>\n",
       "    </tr>\n",
       "    <tr>\n",
       "      <th>LIFESTAGE</th>\n",
       "      <th>PREMIUM_CUSTOMER</th>\n",
       "      <th></th>\n",
       "    </tr>\n",
       "  </thead>\n",
       "  <tbody>\n",
       "    <tr>\n",
       "      <th rowspan=\"3\" valign=\"top\">MIDAGE SINGLES/COUPLES</th>\n",
       "      <th>Budget</th>\n",
       "      <td>9496</td>\n",
       "    </tr>\n",
       "    <tr>\n",
       "      <th>Mainstream</th>\n",
       "      <td>22699</td>\n",
       "    </tr>\n",
       "    <tr>\n",
       "      <th>Premium</th>\n",
       "      <td>15526</td>\n",
       "    </tr>\n",
       "    <tr>\n",
       "      <th rowspan=\"3\" valign=\"top\">NEW FAMILIES</th>\n",
       "      <th>Budget</th>\n",
       "      <td>5571</td>\n",
       "    </tr>\n",
       "    <tr>\n",
       "      <th>Mainstream</th>\n",
       "      <td>4319</td>\n",
       "    </tr>\n",
       "    <tr>\n",
       "      <th>Premium</th>\n",
       "      <td>2957</td>\n",
       "    </tr>\n",
       "    <tr>\n",
       "      <th rowspan=\"3\" valign=\"top\">OLDER FAMILIES</th>\n",
       "      <th>Budget</th>\n",
       "      <td>45065</td>\n",
       "    </tr>\n",
       "    <tr>\n",
       "      <th>Mainstream</th>\n",
       "      <td>27756</td>\n",
       "    </tr>\n",
       "    <tr>\n",
       "      <th>Premium</th>\n",
       "      <td>21771</td>\n",
       "    </tr>\n",
       "    <tr>\n",
       "      <th rowspan=\"3\" valign=\"top\">OLDER SINGLES/COUPLES</th>\n",
       "      <th>Budget</th>\n",
       "      <td>35220</td>\n",
       "    </tr>\n",
       "    <tr>\n",
       "      <th>Mainstream</th>\n",
       "      <td>34997</td>\n",
       "    </tr>\n",
       "    <tr>\n",
       "      <th>Premium</th>\n",
       "      <td>33986</td>\n",
       "    </tr>\n",
       "    <tr>\n",
       "      <th rowspan=\"3\" valign=\"top\">RETIREES</th>\n",
       "      <th>Budget</th>\n",
       "      <td>28764</td>\n",
       "    </tr>\n",
       "    <tr>\n",
       "      <th>Mainstream</th>\n",
       "      <td>40518</td>\n",
       "    </tr>\n",
       "    <tr>\n",
       "      <th>Premium</th>\n",
       "      <td>24884</td>\n",
       "    </tr>\n",
       "    <tr>\n",
       "      <th rowspan=\"3\" valign=\"top\">YOUNG FAMILIES</th>\n",
       "      <th>Budget</th>\n",
       "      <td>37111</td>\n",
       "    </tr>\n",
       "    <tr>\n",
       "      <th>Mainstream</th>\n",
       "      <td>25044</td>\n",
       "    </tr>\n",
       "    <tr>\n",
       "      <th>Premium</th>\n",
       "      <td>22406</td>\n",
       "    </tr>\n",
       "    <tr>\n",
       "      <th rowspan=\"3\" valign=\"top\">YOUNG SINGLES/COUPLES</th>\n",
       "      <th>Budget</th>\n",
       "      <td>16671</td>\n",
       "    </tr>\n",
       "    <tr>\n",
       "      <th>Mainstream</th>\n",
       "      <td>38632</td>\n",
       "    </tr>\n",
       "    <tr>\n",
       "      <th>Premium</th>\n",
       "      <td>11331</td>\n",
       "    </tr>\n",
       "  </tbody>\n",
       "</table>\n",
       "</div>"
      ],
      "text/plain": [
       "                                         PROD_QTY\n",
       "LIFESTAGE              PREMIUM_CUSTOMER          \n",
       "MIDAGE SINGLES/COUPLES Budget                9496\n",
       "                       Mainstream           22699\n",
       "                       Premium              15526\n",
       "NEW FAMILIES           Budget                5571\n",
       "                       Mainstream            4319\n",
       "                       Premium               2957\n",
       "OLDER FAMILIES         Budget               45065\n",
       "                       Mainstream           27756\n",
       "                       Premium              21771\n",
       "OLDER SINGLES/COUPLES  Budget               35220\n",
       "                       Mainstream           34997\n",
       "                       Premium              33986\n",
       "RETIREES               Budget               28764\n",
       "                       Mainstream           40518\n",
       "                       Premium              24884\n",
       "YOUNG FAMILIES         Budget               37111\n",
       "                       Mainstream           25044\n",
       "                       Premium              22406\n",
       "YOUNG SINGLES/COUPLES  Budget               16671\n",
       "                       Mainstream           38632\n",
       "                       Premium              11331"
      ]
     },
     "execution_count": 54,
     "metadata": {},
     "output_type": "execute_result"
    }
   ],
   "source": [
    "customer_chip_purchases"
   ]
  },
  {
   "cell_type": "markdown",
   "id": "85799cd4-3679-416e-9434-bf5365640863",
   "metadata": {},
   "source": [
    "# Analyze Total Sales by Customer Segments"
   ]
  },
  {
   "cell_type": "code",
   "execution_count": 55,
   "id": "92257c94-b355-4f96-a5e5-6fe036866c64",
   "metadata": {},
   "outputs": [
    {
     "name": "stdout",
     "output_type": "stream",
     "text": [
      "                                         TOT_SALES\n",
      "LIFESTAGE              PREMIUM_CUSTOMER           \n",
      "MIDAGE SINGLES/COUPLES Mainstream         7.647284\n",
      "YOUNG SINGLES/COUPLES  Mainstream         7.558339\n",
      "RETIREES               Premium            7.456174\n",
      "OLDER SINGLES/COUPLES  Premium            7.449766\n",
      "RETIREES               Budget             7.443445\n",
      "OLDER SINGLES/COUPLES  Budget             7.430315\n",
      "NEW FAMILIES           Mainstream         7.317806\n",
      "                       Budget             7.297321\n",
      "YOUNG FAMILIES         Budget             7.287201\n",
      "OLDER SINGLES/COUPLES  Mainstream         7.282116\n",
      "OLDER FAMILIES         Budget             7.269570\n",
      "YOUNG FAMILIES         Premium            7.266756\n",
      "OLDER FAMILIES         Mainstream         7.262395\n",
      "RETIREES               Mainstream         7.252262\n",
      "NEW FAMILIES           Premium            7.231655\n",
      "OLDER FAMILIES         Premium            7.208079\n",
      "YOUNG FAMILIES         Mainstream         7.189025\n",
      "MIDAGE SINGLES/COUPLES Premium            7.112056\n",
      "                       Budget             7.074661\n",
      "YOUNG SINGLES/COUPLES  Premium            6.629852\n",
      "                       Budget             6.615624\n"
     ]
    }
   ],
   "source": [
    "# Total sales by LIFESTAGE and PREMIUM_CUSTOMER\n",
    "segment_sales = c[[\"TOT_SALES\", \"LIFESTAGE\", \"PREMIUM_CUSTOMER\"]].groupby([\"LIFESTAGE\", \"PREMIUM_CUSTOMER\"]).mean().sort_values(by=\"TOT_SALES\", ascending=False)\n",
    "\n",
    "# Display the result\n",
    "print(segment_sales)\n"
   ]
  },
  {
   "cell_type": "markdown",
   "id": "3ceddc81-b76e-4421-9f40-908587b6123d",
   "metadata": {},
   "source": [
    "#### Top Spender: MIDAGE SINGLES/COUPLES (Mainstream) has the highest average sales (7.65), indicating they are the biggest spenders.\n",
    "\n",
    "#### Mainstream Advantage: Mainstream customers generally spend more than Budget and Premium customers across most life stages.\n",
    "\n",
    "#### Lower Spending in Premium: RETIREES (Premium) have lower average sales (7.46) compared to Mainstream customers, suggesting an opportunity for targeted promotions.\n",
    "\n",
    "#### Focus Marketing: Consider targeting the MIDAGE SINGLES/COUPLES (Mainstream) group with tailored marketing strategies to boost sales further."
   ]
  },
  {
   "cell_type": "markdown",
   "id": "3d93b066-2c62-4b47-b355-b5a25aab0c89",
   "metadata": {},
   "source": [
    "# Quantity Purchased by Customer Segments"
   ]
  },
  {
   "cell_type": "code",
   "execution_count": 56,
   "id": "f9c0c624-277f-4470-a340-23fb76f42de1",
   "metadata": {},
   "outputs": [
    {
     "name": "stdout",
     "output_type": "stream",
     "text": [
      "                                         PROD_QTY\n",
      "LIFESTAGE              PREMIUM_CUSTOMER          \n",
      "OLDER FAMILIES         Mainstream        1.948610\n",
      "                       Budget            1.945812\n",
      "                       Premium           1.945576\n",
      "YOUNG FAMILIES         Budget            1.940749\n",
      "                       Mainstream        1.940342\n",
      "                       Premium           1.937732\n",
      "OLDER SINGLES/COUPLES  Premium           1.914273\n",
      "                       Budget            1.913403\n",
      "MIDAGE SINGLES/COUPLES Mainstream        1.911656\n",
      "OLDER SINGLES/COUPLES  Mainstream        1.910525\n",
      "RETIREES               Premium           1.900122\n",
      "                       Budget            1.892244\n",
      "MIDAGE SINGLES/COUPLES Budget            1.891633\n",
      "                       Premium           1.889727\n",
      "RETIREES               Mainstream        1.887543\n",
      "NEW FAMILIES           Premium           1.860919\n",
      "                       Mainstream        1.857634\n",
      "                       Budget            1.853910\n",
      "YOUNG SINGLES/COUPLES  Mainstream        1.852498\n",
      "                       Premium           1.804012\n",
      "                       Budget            1.803830\n"
     ]
    }
   ],
   "source": [
    "# Total quantity by LIFESTAGE and PREMIUM_CUSTOMER\n",
    "segment_quantity = c[[\"PROD_QTY\", \"LIFESTAGE\", \"PREMIUM_CUSTOMER\"]].groupby([\"LIFESTAGE\", \"PREMIUM_CUSTOMER\"]).mean().sort_values(by=\"PROD_QTY\", ascending=False)\n",
    "\n",
    "# Display the result\n",
    "print(segment_quantity)"
   ]
  },
  {
   "cell_type": "markdown",
   "id": "68abf4df-c520-4a0f-89f3-3f1515070a3f",
   "metadata": {},
   "source": [
    "#### Older Families Lead: OLDER FAMILIES have the highest average quantity purchased, especially in the Mainstream segment (1.95).\n",
    "\n",
    "#### Young Families Consistency: YOUNG FAMILIES show strong purchasing across all categories, particularly in Budget (1.94).\n",
    "\n",
    "#### Retirees' Premium Preference: RETIREES prefer Premium products over Mainstream and Budget (1.90 vs. 1.89).\n",
    "\n",
    "#### Overall, focus on Older and Young Families for sales growth, while developing strategies for Young Singles/Couples to increase engagement."
   ]
  },
  {
   "cell_type": "markdown",
   "id": "aa64010c-6c8c-4369-bd40-79c422ef0bce",
   "metadata": {},
   "source": [
    "# Identify Top Brands by Sales"
   ]
  },
  {
   "cell_type": "code",
   "execution_count": 57,
   "id": "89567a57-cb89-43ec-9115-6fbb7cea02b5",
   "metadata": {},
   "outputs": [
    {
     "name": "stdout",
     "output_type": "stream",
     "text": [
      "                                     TOT_SALES\n",
      "PROD_NAME                                     \n",
      "Dorito Corn Chp     Supreme          12.268929\n",
      "Smiths Crnkle Chip  Orgnl Big Bag    11.248871\n",
      "Doritos Cheese      Supreme          10.940564\n",
      "Smiths Crinkle      Original         10.917441\n",
      "Cheezels Cheese                      10.891362\n",
      "...                                        ...\n",
      "WW Crinkle Cut      Original          3.214326\n",
      "Sunbites Whlegrn    Crisps FrchOnin   3.212430\n",
      "WW Crinkle Cut      Chicken           3.205317\n",
      "Woolworths Mild     Salsa             2.840040\n",
      "Woolworths Medium   Salsa             2.832168\n",
      "\n",
      "[114 rows x 1 columns]\n"
     ]
    }
   ],
   "source": [
    "# Total sales by product name (brand)\n",
    "brand_sales = c[[\"TOT_SALES\", \"PROD_NAME\"]].groupby(\"PROD_NAME\").mean().sort_values(by=\"TOT_SALES\", ascending=False)\n",
    "\n",
    "# Display the result\n",
    "print(brand_sales)"
   ]
  },
  {
   "cell_type": "markdown",
   "id": "d3dcfd42-876d-4c3e-a767-816d585d70b3",
   "metadata": {},
   "source": [
    "### Top Sellers:\n",
    "#### Dorito Corn Chips Supreme leads with average sales of 12.27. Smiths Crinkle Chips Original Big Bag follows at 11.25.\n",
    "\n",
    "### Brand Dominance:\n",
    "#### Smiths and Doritos are the most popular brands, indicating strong consumer loyalty.\n",
    "\n",
    "### Sales Range:\n",
    "#### Lowest-selling products, like Woolworths Mild Salsa (average sales of 2.84), suggest potential areas for improvement."
   ]
  },
  {
   "cell_type": "markdown",
   "id": "00b0cab1-f7bd-4174-a620-8dc1fb9be77d",
   "metadata": {},
   "source": [
    "# Analyze Popular Pack Sizes"
   ]
  },
  {
   "cell_type": "code",
   "execution_count": 58,
   "id": "81a15b72-e216-4779-9fae-e08456f83b48",
   "metadata": {},
   "outputs": [
    {
     "name": "stdout",
     "output_type": "stream",
     "text": [
      "                  TOT_SALES\n",
      "Cleaned_Quantity           \n",
      "380g              11.754925\n",
      "330g              10.908636\n",
      "270g               8.818679\n",
      "250g               8.234995\n",
      "135g               8.010562\n",
      "300g               7.472676\n",
      "175g               7.348217\n",
      "170g               7.339889\n",
      "110g               7.270532\n",
      "150g               7.124389\n",
      "134g               7.077344\n",
      "210G               6.875362\n",
      "210g               6.852163\n",
      "165g               6.626175\n",
      "180g               5.836785\n",
      "175G               5.698152\n",
      "150G               5.126035\n",
      "190g               4.812321\n",
      "70g                4.546782\n",
      "220g               4.367647\n",
      "125g               3.942916\n",
      "160g               3.585051\n",
      "200g               3.578694\n",
      "90g                3.216888\n"
     ]
    }
   ],
   "source": [
    "# Total sales by pack size\n",
    "pack_size_sales = c[[\"TOT_SALES\", \"Cleaned_Quantity\"]].groupby(\"Cleaned_Quantity\").mean().sort_values(by=\"TOT_SALES\", ascending=False)\n",
    "\n",
    "# Display the result\n",
    "print(pack_size_sales)"
   ]
  },
  {
   "cell_type": "markdown",
   "id": "7a2a5379-0f13-47b5-8fcf-dc9185d4e694",
   "metadata": {},
   "source": [
    "#### Key Insights from Pack Size Analysis\n",
    "#### Best Seller: The 380g pack is the top seller with an average of 11.75 in sales.\n",
    "#### Popular Sizes: 330g and 270g are also strong performers, averaging 10.91 and 8.82 in sales.\n",
    "#### Smaller Sizes Lag: Smaller packs (e.g., 70g, 90g) show significantly lower sales.\n",
    "#### Trend: There’s a clear preference for larger pack sizes, suggesting consumers favor bulk purchases."
   ]
  },
  {
   "cell_type": "markdown",
   "id": "5ba6bfea-2a7a-42e8-862e-a14be5d81566",
   "metadata": {},
   "source": [
    " # Visualize Key Insights Using Seaborn\n",
    "#### Bar Plot for Total Sales by Customer Segments"
   ]
  },
  {
   "cell_type": "code",
   "execution_count": 59,
   "id": "375651de-815d-4f73-adcb-a12cf7ed7e2e",
   "metadata": {},
   "outputs": [
    {
     "data": {
      "image/png": "[encoded data removed]",
      "text/plain": [
       "<Figure size 1000x600 with 1 Axes>"
      ]
     },
     "metadata": {},
     "output_type": "display_data"
    }
   ],
   "source": [
    "import seaborn as sns\n",
    "import matplotlib.pyplot as plt\n",
    "\n",
    "# Reset index to prepare for plotting\n",
    "segment_sales_reset = segment_sales.reset_index()\n",
    "\n",
    "# Create a bar plot using Seaborn\n",
    "plt.figure(figsize=(10, 6))\n",
    "sns.barplot(x=\"LIFESTAGE\", y=\"TOT_SALES\", hue=\"PREMIUM_CUSTOMER\", data=segment_sales_reset)\n",
    "\n",
    "# Add title and labels\n",
    "plt.title(\"Total Sales by Customer Segment\")\n",
    "plt.ylabel(\"Average Sales\")\n",
    "plt.xlabel(\"Lifestage\")\n",
    "\n",
    "# Rotate x-axis labels for better readability\n",
    "plt.xticks(rotation=45)\n",
    "\n",
    "# Show the plot\n",
    "plt.show()\n"
   ]
  },
  {
   "cell_type": "markdown",
   "id": "35bfa445-fe21-4d1b-9c6b-f644fc941d89",
   "metadata": {},
   "source": [
    "#### The graph shows that average sales increase with customer tier and decrease with lifestage. New Families have the highest sales, while Older Families have the lowest. Premium Customers have the highest sales, while Budget Customers have the lowest."
   ]
  },
  {
   "cell_type": "markdown",
   "id": "c1ae4874-a9db-4911-88df-f055e2c23e16",
   "metadata": {},
   "source": [
    "#### Bar Plot for Popular Brands"
   ]
  },
  {
   "cell_type": "code",
   "execution_count": 60,
   "id": "d31a1ff3-4114-4b9e-9d78-1259de05ab27",
   "metadata": {},
   "outputs": [
    {
     "data": {
      "image/png": "[encoded data removed]",
      "text/plain": [
       "<Figure size 1000x600 with 1 Axes>"
      ]
     },
     "metadata": {},
     "output_type": "display_data"
    }
   ],
   "source": [
    "# Reset index to prepare for plotting\n",
    "brand_sales_reset = brand_sales.reset_index()\n",
    "\n",
    "# Bar plot for top 10 brands by sales\n",
    "plt.figure(figsize=(10, 6))\n",
    "sns.barplot(x=\"PROD_NAME\", y=\"TOT_SALES\", data=brand_sales_reset.head(10))\n",
    "\n",
    "# Add title and labels\n",
    "plt.title(\"Top 10 Brands by Sales\")\n",
    "plt.ylabel(\"Average Sales\")\n",
    "plt.xlabel(\"Brand\")\n",
    "\n",
    "# Rotate x-axis labels for better readability\n",
    "plt.xticks(rotation=45)\n",
    "\n",
    "# Show the plot\n",
    "plt.show()\n"
   ]
  },
  {
   "cell_type": "markdown",
   "id": "bd7b6fca-12a3-473a-b90a-8feac536b4a1",
   "metadata": {},
   "source": [
    "#### The graph shows the average sales of the top 10 brands. Dorito Corn Che Supreme has the highest average sales, followed by Smiths Coke O Cola and Doritos Cheese Supreme. The remaining brands have relatively similar average sales."
   ]
  },
  {
   "cell_type": "code",
   "execution_count": null,
   "id": "27051c16-996a-4c81-977f-7febb1bfc1d5",
   "metadata": {},
   "outputs": [],
   "source": []
  }
 ],
 "metadata": {
  "kernelspec": {
   "display_name": "Python 3 (ipykernel)",
   "language": "python",
   "name": "python3"
  },
  "language_info": {
   "codemirror_mode": {
    "name": "ipython",
    "version": 3
   },
   "file_extension": ".py",
   "mimetype": "text/x-python",
   "name": "python",
   "nbconvert_exporter": "python",
   "pygments_lexer": "ipython3",
   "version": "3.12.3"
  }
 },
 "nbformat": 4,
 "nbformat_minor": 5
}
